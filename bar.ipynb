{
 "cells": [
  {
   "cell_type": "code",
   "execution_count": 1,
   "id": "254ee9be-5d4e-4cf2-94c3-e03cdf81222c",
   "metadata": {
    "tags": []
   },
   "outputs": [],
   "source": [
    "import pandas as pd"
   ]
  },
  {
   "cell_type": "code",
   "execution_count": 7,
   "id": "558eb3f1-d671-400b-983b-0f62a888e08b",
   "metadata": {
    "tags": []
   },
   "outputs": [],
   "source": [
    "attorneys = pd.read_csv('attorneys.csv')\n",
    "attorneyTimeEntries = pd.read_csv('attorneytimeentries.csv')\n",
    "categories = pd.read_csv('categories.csv')\n",
    "clients = pd.read_csv('clients.csv')\n",
    "# questionPosts = pd.read_csv('questionposts.csv')\n",
    "questions = pd.read_csv('questions.csv')"
   ]
  },
  {
   "cell_type": "code",
   "execution_count": 5,
   "id": "515f56fb-8b6f-4d9f-9acf-ef6b6f785745",
   "metadata": {
    "tags": []
   },
   "outputs": [
    {
     "data": {
      "text/html": [
       "<div>\n",
       "<style scoped>\n",
       "    .dataframe tbody tr th:only-of-type {\n",
       "        vertical-align: middle;\n",
       "    }\n",
       "\n",
       "    .dataframe tbody tr th {\n",
       "        vertical-align: top;\n",
       "    }\n",
       "\n",
       "    .dataframe thead th {\n",
       "        text-align: right;\n",
       "    }\n",
       "</style>\n",
       "<table border=\"1\" class=\"dataframe\">\n",
       "  <thead>\n",
       "    <tr style=\"text-align: right;\">\n",
       "      <th></th>\n",
       "      <th>Id</th>\n",
       "      <th>StateAbbr</th>\n",
       "      <th>AttorneyUno</th>\n",
       "      <th>City</th>\n",
       "      <th>County</th>\n",
       "      <th>StateName</th>\n",
       "      <th>PostalCode</th>\n",
       "      <th>CreatedUtc</th>\n",
       "    </tr>\n",
       "  </thead>\n",
       "  <tbody>\n",
       "    <tr>\n",
       "      <th>0</th>\n",
       "      <td>1</td>\n",
       "      <td>NH</td>\n",
       "      <td>7A2C12BE-9F37-4C9D-A6ED-41B916820CE0</td>\n",
       "      <td>Concord</td>\n",
       "      <td>Cheshire</td>\n",
       "      <td>New Hampshire</td>\n",
       "      <td>3301</td>\n",
       "      <td>2019-02-14 16:21:52</td>\n",
       "    </tr>\n",
       "    <tr>\n",
       "      <th>1</th>\n",
       "      <td>2</td>\n",
       "      <td>NH</td>\n",
       "      <td>29A49AA6-047E-4008-ABBD-3DE57156B526</td>\n",
       "      <td>Concord</td>\n",
       "      <td>Merrimack</td>\n",
       "      <td>New Hampshire</td>\n",
       "      <td>3229</td>\n",
       "      <td>2019-02-14 18:14:30</td>\n",
       "    </tr>\n",
       "    <tr>\n",
       "      <th>2</th>\n",
       "      <td>3</td>\n",
       "      <td>MS</td>\n",
       "      <td>9DF11B65-7F29-452C-A69E-54CD72E4A116</td>\n",
       "      <td>Jackson</td>\n",
       "      <td>Rankin</td>\n",
       "      <td>Mississippi</td>\n",
       "      <td>39203</td>\n",
       "      <td>2016-08-19 17:07:23</td>\n",
       "    </tr>\n",
       "    <tr>\n",
       "      <th>3</th>\n",
       "      <td>4</td>\n",
       "      <td>VA</td>\n",
       "      <td>693FD55F-5F58-405A-B389-5E78B3406497</td>\n",
       "      <td>Richmond</td>\n",
       "      <td>Richmond (city)</td>\n",
       "      <td>Virginia</td>\n",
       "      <td>23219</td>\n",
       "      <td>2016-08-19 18:22:53</td>\n",
       "    </tr>\n",
       "    <tr>\n",
       "      <th>4</th>\n",
       "      <td>5</td>\n",
       "      <td>CT</td>\n",
       "      <td>0AC2A866-19CD-4D1A-94B7-BF41A1430553</td>\n",
       "      <td>Wethersfield</td>\n",
       "      <td>Hartford</td>\n",
       "      <td>Connecticut</td>\n",
       "      <td>6410</td>\n",
       "      <td>2016-08-21 01:21:13</td>\n",
       "    </tr>\n",
       "  </tbody>\n",
       "</table>\n",
       "</div>"
      ],
      "text/plain": [
       "   Id StateAbbr                           AttorneyUno          City  \\\n",
       "0   1        NH  7A2C12BE-9F37-4C9D-A6ED-41B916820CE0       Concord   \n",
       "1   2        NH  29A49AA6-047E-4008-ABBD-3DE57156B526       Concord   \n",
       "2   3        MS  9DF11B65-7F29-452C-A69E-54CD72E4A116       Jackson   \n",
       "3   4        VA  693FD55F-5F58-405A-B389-5E78B3406497      Richmond   \n",
       "4   5        CT  0AC2A866-19CD-4D1A-94B7-BF41A1430553  Wethersfield   \n",
       "\n",
       "            County      StateName  PostalCode           CreatedUtc  \n",
       "0         Cheshire  New Hampshire        3301  2019-02-14 16:21:52  \n",
       "1        Merrimack  New Hampshire        3229  2019-02-14 18:14:30  \n",
       "2           Rankin    Mississippi       39203  2016-08-19 17:07:23  \n",
       "3  Richmond (city)       Virginia       23219  2016-08-19 18:22:53  \n",
       "4         Hartford    Connecticut        6410  2016-08-21 01:21:13  "
      ]
     },
     "execution_count": 5,
     "metadata": {},
     "output_type": "execute_result"
    }
   ],
   "source": [
    "attorneys.head()"
   ]
  },
  {
   "cell_type": "code",
   "execution_count": null,
   "id": "664d3dab-8252-48f2-8104-57d5f57ba463",
   "metadata": {},
   "outputs": [],
   "source": []
  }
 ],
 "metadata": {
  "kernelspec": {
   "display_name": "Python 3 (ipykernel)",
   "language": "python",
   "name": "python3"
  },
  "language_info": {
   "codemirror_mode": {
    "name": "ipython",
    "version": 3
   },
   "file_extension": ".py",
   "mimetype": "text/x-python",
   "name": "python",
   "nbconvert_exporter": "python",
   "pygments_lexer": "ipython3",
   "version": "3.10.9"
  }
 },
 "nbformat": 4,
 "nbformat_minor": 5
}
